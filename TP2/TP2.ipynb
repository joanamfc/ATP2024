{
 "cells": [
  {
   "cell_type": "markdown",
   "metadata": {},
   "source": [
    "### TPC2: Adivinha o número\n",
    "- Crie um programa em Python para jogar o jogo \"Adivinha o número\":\n",
    "    - O jogo pode ter 2 modalidades: computador pensa num número (entre 0 e 100), utilizador tenta adivinhar; ou, o utilizador pensa num número (entre 0 e 100) e o computador tenta adivinhar;\n",
    "    - Quem tenta adivinhar responde com uma das afirmações: \"Acertou\", \"O número que pensei é Maior\" ou \"O número que pensei é Menor\";\n",
    "    - Uma vez descoberto o número o programa deverá terminar imprimindo o número de tentativas que quem adivinhou usou para chegar ao resultado."
   ]
  },
  {
   "cell_type": "code",
   "execution_count": 1,
   "metadata": {},
   "outputs": [
    {
     "name": "stdout",
     "output_type": "stream",
     "text": [
      "Bem-vindo Joana, vamos jogar 'Adivinha o número'!\n",
      "Escolhe uma modalidade: 1. Computador pensa num número, tu tentas adivinhar qual. 2. Tu pensas num número, o computador tenta adivinhar qual.\n",
      "O número em que pensaste foi o 50\n",
      "O número em que pensaste foi o 75? \n",
      "O número em que pensaste foi o 87? \n",
      "O número em que pensaste foi o 87 e usei 3 tentativas para adivinhar.\n"
     ]
    }
   ],
   "source": [
    "import random\n",
    "nome = input(\"Coloque o seu nome de usuário:\")\n",
    "print(f\"Bem-vindo {nome}, vamos jogar 'Adivinha o número'!\")\n",
    "\n",
    "print(\"Escolhe uma modalidade: 1. Computador pensa num número, tu tentas adivinhar qual. 2. Tu pensas num número, o computador tenta adivinhar qual.\")\n",
    "    \n",
    "escolha = input(\"Escolhe a modalidade 1 ou a modalidade 2: \")\n",
    "    \n",
    "if escolha == \"1\" :\n",
    "        número_aleatório = random.randrange(0, 101)\n",
    "        tentativa = 1\n",
    "        palpite = int(input(\"Sabendo que o número está entre 0 e 100, achas que pensei no número:\" ))\n",
    "\n",
    "        while palpite != número_aleatório:\n",
    "\n",
    "            if palpite < número_aleatório:\n",
    "                print(\"O número em que pensei é maior.\")\n",
    "            elif palpite > número_aleatório:\n",
    "                print(\"O número em que pensei é menor\")    \n",
    "            \n",
    "            palpite = int(input(\"Tenta novamente:\"))\n",
    "            tentativa = tentativa + 1\n",
    "            \n",
    "        print(f\"Parabéns, foi mesmo no número {número_aleatório}. Utilizas-te {tentativa} tentivas.\")\n",
    "\n",
    "elif escolha == '2':\n",
    "        maior = 100\n",
    "        menor = 0\n",
    "        tentativas = 1\n",
    "        número_escolhido = int((maior + menor) // 2 )\n",
    "\n",
    "        print(f\"O número em que pensaste foi o {número_escolhido}?\")\n",
    "        resposta = input(\"Adivinhei?\")\n",
    "        \n",
    "        while resposta != \"acertaste\":\n",
    "\n",
    "            if resposta == \"maior\":\n",
    "                número = número_escolhido + 1\n",
    "                número_escolhido = (maior + número_escolhido) // 2\n",
    "            elif resposta == \"menor\":\n",
    "                maior = número_escolhido - 1 \n",
    "                número_escolhido = (menor + número_escolhido) // 2\n",
    "\n",
    "            tentativas = tentativas + 1   \n",
    "            print(f\"O número em que pensaste foi o {número_escolhido}? \")\n",
    "            resposta = input(\"Adivinhei?\")\n",
    "\n",
    "        print(f\"O número em que pensaste foi o {número_escolhido} e usei {tentativas} tentativas para adivinhar.\")\n",
    "else:\n",
    "  print(\"Escolha inválida, volte a introduzir o seu nome de usuário e a selecionar 1 ou 2.\")"
   ]
  }
 ],
 "metadata": {
  "kernelspec": {
   "display_name": "Python 3",
   "language": "python",
   "name": "python3"
  },
  "language_info": {
   "codemirror_mode": {
    "name": "ipython",
    "version": 3
   },
   "file_extension": ".py",
   "mimetype": "text/x-python",
   "name": "python",
   "nbconvert_exporter": "python",
   "pygments_lexer": "ipython3",
   "version": "3.12.6"
  }
 },
 "nbformat": 4,
 "nbformat_minor": 2
}
